{
 "cells": [
  {
   "cell_type": "code",
   "execution_count": 1,
   "metadata": {},
   "outputs": [],
   "source": [
    "import pandas as pd\n",
    "import numpy as np\n",
    "\n",
    "###### Link to Vehicle dataset\n",
    "#to be added"
   ]
  },
  {
   "cell_type": "code",
   "execution_count": 2,
   "metadata": {},
   "outputs": [],
   "source": [
    "# Load dataset\n",
    "df = pd.read_csv(r'/home/ritul/Documents/Datasets/archive/bus_gps_data/treatedBusDataOnlyRoute.csv')"
   ]
  },
  {
   "cell_type": "code",
   "execution_count": 3,
   "metadata": {},
   "outputs": [
    {
     "name": "stdout",
     "output_type": "stream",
     "text": [
      "         date      time   order   line   latitude  longitude  speed\n",
      "0  01-25-2019  08:50:39  C51623  371.0 -22.883270  -43.34256   37.0\n",
      "1  01-25-2019  08:55:43  C51556  371.0 -22.887461  -43.28273    8.0\n",
      "2  01-25-2019  08:56:37  C51641  371.0 -22.884029  -43.34251   19.0\n",
      "3  01-25-2019  08:57:24  C51649  371.0 -22.881630  -43.29324   15.0\n",
      "4  01-25-2019  08:57:27  C51561  371.0 -22.907370  -43.23761   13.0\n"
     ]
    }
   ],
   "source": [
    "test = df.head(5)\n",
    "print(test)"
   ]
  },
  {
   "cell_type": "code",
   "execution_count": 5,
   "metadata": {},
   "outputs": [],
   "source": [
    "test_df = df.loc[df['order'] == 'C51623']\n",
    "test_df.to_csv(\"/home/ritul/Documents/Fleetalytics/Fleet_data/test_vehicle.csv\")"
   ]
  },
  {
   "cell_type": "code",
   "execution_count": null,
   "metadata": {},
   "outputs": [],
   "source": []
  }
 ],
 "metadata": {
  "kernelspec": {
   "display_name": "Python 3.10.7 64-bit",
   "language": "python",
   "name": "python3"
  },
  "language_info": {
   "codemirror_mode": {
    "name": "ipython",
    "version": 3
   },
   "file_extension": ".py",
   "mimetype": "text/x-python",
   "name": "python",
   "nbconvert_exporter": "python",
   "pygments_lexer": "ipython3",
   "version": "3.10.7"
  },
  "orig_nbformat": 4,
  "vscode": {
   "interpreter": {
    "hash": "e7370f93d1d0cde622a1f8e1c04877d8463912d04d973331ad4851f04de6915a"
   }
  }
 },
 "nbformat": 4,
 "nbformat_minor": 2
}
