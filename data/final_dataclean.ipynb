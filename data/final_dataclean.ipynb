{
 "cells": [
  {
   "cell_type": "code",
   "execution_count": 3,
   "metadata": {},
   "outputs": [],
   "source": [
    "import pandas as pd\n",
    "import numpy as np\n",
    "import random\n",
    "from tqdm import tqdm"
   ]
  },
  {
   "cell_type": "code",
   "execution_count": 3,
   "metadata": {},
   "outputs": [],
   "source": [
    "# Load dataset\n",
    "df = pd.read_csv(r'/home/ritul/Documents/Datasets/archive/bus_gps_data/treatedBusDataOnlyRoute.csv')"
   ]
  },
  {
   "cell_type": "code",
   "execution_count": 4,
   "metadata": {},
   "outputs": [
    {
     "name": "stdout",
     "output_type": "stream",
     "text": [
      "5421\n"
     ]
    }
   ],
   "source": [
    "# Get list of Unique Orders\n",
    "# Extract unique VIN(order)\n",
    "df_unique = df.drop_duplicates(subset=[\"order\"],keep='first')\n",
    "df_unique.head()\n",
    "len(df_unique)\n",
    "bus_unique = df_unique[\"order\"].to_list()\n",
    "print(len(bus_unique))"
   ]
  },
  {
   "cell_type": "code",
   "execution_count": null,
   "metadata": {},
   "outputs": [],
   "source": [
    "val_counts = dict(df['order'].value_counts(ascending=False))\n",
    "print(val_counts)\n",
    "'''\n",
    "{'B51524': 32733, 'D53544': 32551, 'B51528': 31037, 'B51522': 30143, 'B51529': 30123, 'B51550': 29526, 'B51514': 29400, 'D86254': 29031, 'B51547': 28884, 'B51503': 28792, 'B51533': 28716,\n",
    " 'B51520': 28705, 'B51541': 28623, 'C51559': 28516, 'B51546': 28313, '\n",
    "'''"
   ]
  },
  {
   "cell_type": "code",
   "execution_count": null,
   "metadata": {},
   "outputs": [],
   "source": [
    "val_counts['B51524']\n",
    "valid_buses = []\n",
    "ctr = 0\n",
    "for i in val_counts:\n",
    "    if val_counts[i] > 20000:\n",
    "        valid_buses.append(i)\n",
    "        ctr += 1\n",
    "print(ctr)\n",
    "print(valid_buses)\n"
   ]
  },
  {
   "cell_type": "code",
   "execution_count": 16,
   "metadata": {},
   "outputs": [],
   "source": [
    "# Sorted Valid fleet => 503 buses\n",
    "valid_df = df.loc[df['order'].isin(valid_buses)]\n",
    "valid_df = valid_df.sort_values(by = 'order')"
   ]
  },
  {
   "cell_type": "code",
   "execution_count": 18,
   "metadata": {},
   "outputs": [
    {
     "data": {
      "text/plain": [
       "count     11466537\n",
       "unique         503\n",
       "top         B51524\n",
       "freq         32733\n",
       "Name: order, dtype: object"
      ]
     },
     "execution_count": 18,
     "metadata": {},
     "output_type": "execute_result"
    }
   ],
   "source": [
    "valid_df['order'].describe()"
   ]
  },
  {
   "cell_type": "code",
   "execution_count": 24,
   "metadata": {},
   "outputs": [
    {
     "name": "stderr",
     "output_type": "stream",
     "text": [
      "100%|██████████| 503/503 [05:09<00:00,  1.62it/s]\n"
     ]
    },
    {
     "name": "stdout",
     "output_type": "stream",
     "text": [
      "bus_chunks len:  503\n"
     ]
    },
    {
     "data": {
      "text/html": [
       "<div>\n",
       "<style scoped>\n",
       "    .dataframe tbody tr th:only-of-type {\n",
       "        vertical-align: middle;\n",
       "    }\n",
       "\n",
       "    .dataframe tbody tr th {\n",
       "        vertical-align: top;\n",
       "    }\n",
       "\n",
       "    .dataframe thead th {\n",
       "        text-align: right;\n",
       "    }\n",
       "</style>\n",
       "<table border=\"1\" class=\"dataframe\">\n",
       "  <thead>\n",
       "    <tr style=\"text-align: right;\">\n",
       "      <th></th>\n",
       "      <th>date</th>\n",
       "      <th>time</th>\n",
       "      <th>order</th>\n",
       "      <th>line</th>\n",
       "      <th>latitude</th>\n",
       "      <th>longitude</th>\n",
       "      <th>speed</th>\n",
       "    </tr>\n",
       "  </thead>\n",
       "  <tbody>\n",
       "    <tr>\n",
       "      <th>14291325</th>\n",
       "      <td>02-12-2019</td>\n",
       "      <td>10:04:53</td>\n",
       "      <td>A41121</td>\n",
       "      <td>460.0</td>\n",
       "      <td>-22.983540</td>\n",
       "      <td>-43.217812</td>\n",
       "      <td>0.0</td>\n",
       "    </tr>\n",
       "    <tr>\n",
       "      <th>14262229</th>\n",
       "      <td>02-08-2019</td>\n",
       "      <td>19:36:03</td>\n",
       "      <td>A41121</td>\n",
       "      <td>460.0</td>\n",
       "      <td>-22.968451</td>\n",
       "      <td>-43.217350</td>\n",
       "      <td>26.0</td>\n",
       "    </tr>\n",
       "    <tr>\n",
       "      <th>14262184</th>\n",
       "      <td>02-08-2019</td>\n",
       "      <td>19:32:03</td>\n",
       "      <td>A41121</td>\n",
       "      <td>460.0</td>\n",
       "      <td>-22.971390</td>\n",
       "      <td>-43.217369</td>\n",
       "      <td>0.0</td>\n",
       "    </tr>\n",
       "    <tr>\n",
       "      <th>14262160</th>\n",
       "      <td>02-08-2019</td>\n",
       "      <td>19:30:33</td>\n",
       "      <td>A41121</td>\n",
       "      <td>460.0</td>\n",
       "      <td>-22.974239</td>\n",
       "      <td>-43.217991</td>\n",
       "      <td>21.0</td>\n",
       "    </tr>\n",
       "    <tr>\n",
       "      <th>14262127</th>\n",
       "      <td>02-08-2019</td>\n",
       "      <td>19:28:03</td>\n",
       "      <td>A41121</td>\n",
       "      <td>460.0</td>\n",
       "      <td>-22.978069</td>\n",
       "      <td>-43.224060</td>\n",
       "      <td>21.0</td>\n",
       "    </tr>\n",
       "    <tr>\n",
       "      <th>...</th>\n",
       "      <td>...</td>\n",
       "      <td>...</td>\n",
       "      <td>...</td>\n",
       "      <td>...</td>\n",
       "      <td>...</td>\n",
       "      <td>...</td>\n",
       "      <td>...</td>\n",
       "    </tr>\n",
       "    <tr>\n",
       "      <th>31480584</th>\n",
       "      <td>03-11-2019</td>\n",
       "      <td>16:17:07</td>\n",
       "      <td>D87392</td>\n",
       "      <td>898.0</td>\n",
       "      <td>-22.984779</td>\n",
       "      <td>-43.685699</td>\n",
       "      <td>31.0</td>\n",
       "    </tr>\n",
       "    <tr>\n",
       "      <th>31370556</th>\n",
       "      <td>02-07-2019</td>\n",
       "      <td>05:14:05</td>\n",
       "      <td>D87392</td>\n",
       "      <td>898.0</td>\n",
       "      <td>-22.955589</td>\n",
       "      <td>-43.687462</td>\n",
       "      <td>21.0</td>\n",
       "    </tr>\n",
       "    <tr>\n",
       "      <th>31370558</th>\n",
       "      <td>02-07-2019</td>\n",
       "      <td>05:15:05</td>\n",
       "      <td>D87392</td>\n",
       "      <td>898.0</td>\n",
       "      <td>-22.957769</td>\n",
       "      <td>-43.690552</td>\n",
       "      <td>32.0</td>\n",
       "    </tr>\n",
       "    <tr>\n",
       "      <th>31433629</th>\n",
       "      <td>02-25-2019</td>\n",
       "      <td>16:40:09</td>\n",
       "      <td>D87392</td>\n",
       "      <td>898.0</td>\n",
       "      <td>-22.923559</td>\n",
       "      <td>-43.691029</td>\n",
       "      <td>35.0</td>\n",
       "    </tr>\n",
       "    <tr>\n",
       "      <th>31370562</th>\n",
       "      <td>02-07-2019</td>\n",
       "      <td>05:17:05</td>\n",
       "      <td>D87392</td>\n",
       "      <td>898.0</td>\n",
       "      <td>-22.963751</td>\n",
       "      <td>-43.703129</td>\n",
       "      <td>38.0</td>\n",
       "    </tr>\n",
       "  </tbody>\n",
       "</table>\n",
       "<p>10060000 rows × 7 columns</p>\n",
       "</div>"
      ],
      "text/plain": [
       "                date      time   order   line   latitude  longitude  speed\n",
       "14291325  02-12-2019  10:04:53  A41121  460.0 -22.983540 -43.217812    0.0\n",
       "14262229  02-08-2019  19:36:03  A41121  460.0 -22.968451 -43.217350   26.0\n",
       "14262184  02-08-2019  19:32:03  A41121  460.0 -22.971390 -43.217369    0.0\n",
       "14262160  02-08-2019  19:30:33  A41121  460.0 -22.974239 -43.217991   21.0\n",
       "14262127  02-08-2019  19:28:03  A41121  460.0 -22.978069 -43.224060   21.0\n",
       "...              ...       ...     ...    ...        ...        ...    ...\n",
       "31480584  03-11-2019  16:17:07  D87392  898.0 -22.984779 -43.685699   31.0\n",
       "31370556  02-07-2019  05:14:05  D87392  898.0 -22.955589 -43.687462   21.0\n",
       "31370558  02-07-2019  05:15:05  D87392  898.0 -22.957769 -43.690552   32.0\n",
       "31433629  02-25-2019  16:40:09  D87392  898.0 -22.923559 -43.691029   35.0\n",
       "31370562  02-07-2019  05:17:05  D87392  898.0 -22.963751 -43.703129   38.0\n",
       "\n",
       "[10060000 rows x 7 columns]"
      ]
     },
     "execution_count": 24,
     "metadata": {},
     "output_type": "execute_result"
    }
   ],
   "source": [
    "# final_df = pd.DataFrame(data=None, columns=valid_df.columns, index=valid_df.index)\n",
    "bus_chunks = []\n",
    "for i in tqdm(valid_df['order'].unique()):\n",
    "    x = valid_df[valid_df['order']== i].head(20000)\n",
    "    bus_chunks.append(x)\n",
    "print(\"bus_chunks len: \", len(bus_chunks))\n",
    "final_df = pd.concat(bus_chunks)\n",
    "final_df"
   ]
  },
  {
   "cell_type": "code",
   "execution_count": 25,
   "metadata": {},
   "outputs": [],
   "source": [
    "# Total datapoints in final_df = 10060000\n",
    "final_df.to_csv(\"/home/ritul/Documents/Datasets/fleetalytics_data/fleet_data.csv\", index=False)"
   ]
  },
  {
   "cell_type": "code",
   "execution_count": 28,
   "metadata": {},
   "outputs": [
    {
     "name": "stderr",
     "output_type": "stream",
     "text": [
      "100%|██████████| 503/503 [00:00<00:00, 926.13it/s]"
     ]
    },
    {
     "name": "stdout",
     "output_type": "stream",
     "text": [
      "10060000\n"
     ]
    },
    {
     "name": "stderr",
     "output_type": "stream",
     "text": [
      "\n"
     ]
    }
   ],
   "source": [
    "# Allocate Bus types to each Order\n",
    "# M = Mini, D = Double Decker, E = Express, C = Coach\n",
    "bus_types = [\"M\", \"D\", \"E\", \"C\"]\n",
    "types_arr = []\n",
    "for i in tqdm(range(503)):\n",
    "    bt = random.choice(bus_types)\n",
    "    for i in range(20000):\n",
    "        types_arr.append(bt)\n",
    "    \n",
    "print(len(types_arr))"
   ]
  },
  {
   "cell_type": "code",
   "execution_count": 13,
   "metadata": {},
   "outputs": [
    {
     "name": "stderr",
     "output_type": "stream",
     "text": [
      "100%|██████████| 503/503 [00:00<00:00, 512.37it/s]"
     ]
    },
    {
     "name": "stdout",
     "output_type": "stream",
     "text": [
      "10060000\n"
     ]
    },
    {
     "name": "stderr",
     "output_type": "stream",
     "text": [
      "\n"
     ]
    }
   ],
   "source": [
    "sr_arr = []\n",
    "\n",
    "for i in tqdm(range(503)):\n",
    "    m = 1\n",
    "    for i in range(20000):\n",
    "        sr_arr.append(m)\n",
    "        m += 1 \n",
    "    #print(m)\n",
    "print(len(sr_arr))\n"
   ]
  },
  {
   "cell_type": "code",
   "execution_count": 36,
   "metadata": {},
   "outputs": [],
   "source": [
    "final_df[\"type\"] = types_arr\n",
    "check_df = final_df.insert(0, \"sr_num\", sr_arr)\n",
    "check_df"
   ]
  },
  {
   "cell_type": "code",
   "execution_count": 1,
   "metadata": {},
   "outputs": [
    {
     "ename": "NameError",
     "evalue": "name 'final_df' is not defined",
     "output_type": "error",
     "traceback": [
      "\u001b[0;31m---------------------------------------------------------------------------\u001b[0m",
      "\u001b[0;31mNameError\u001b[0m                                 Traceback (most recent call last)",
      "\u001b[0;32m/tmp/ipykernel_31618/4209045385.py\u001b[0m in \u001b[0;36m<module>\u001b[0;34m\u001b[0m\n\u001b[0;32m----> 1\u001b[0;31m \u001b[0mfinal_df\u001b[0m\u001b[0;34m.\u001b[0m\u001b[0mhead\u001b[0m\u001b[0;34m(\u001b[0m\u001b[0;34m)\u001b[0m\u001b[0;34m\u001b[0m\u001b[0;34m\u001b[0m\u001b[0m\n\u001b[0m\u001b[1;32m      2\u001b[0m \u001b[0;34m\u001b[0m\u001b[0m\n\u001b[1;32m      3\u001b[0m \u001b[0;31m# final_df.drop(columns=df.columns[0], axis=1, inplace=True)\u001b[0m\u001b[0;34m\u001b[0m\u001b[0;34m\u001b[0m\u001b[0m\n",
      "\u001b[0;31mNameError\u001b[0m: name 'final_df' is not defined"
     ]
    }
   ],
   "source": [
    "final_df.head()\n",
    "\n",
    "# final_df.drop(columns=df.columns[0], axis=1, inplace=True)"
   ]
  },
  {
   "cell_type": "code",
   "execution_count": 38,
   "metadata": {},
   "outputs": [],
   "source": [
    "final_df.to_csv(\"/home/ritul/Documents/Datasets/fleetalytics_data/fleet_data.csv\", index=False)"
   ]
  },
  {
   "cell_type": "code",
   "execution_count": null,
   "metadata": {},
   "outputs": [],
   "source": [
    "bus_fleet = []\n",
    "for i in tqdm(range(len(bus_unique))):\n",
    "    if bus_unique[i][0] == \"A\":\n",
    "        bus_fleet.append(bus_unique[i])\n",
    "print(len(bus_fleet))\n",
    "print(bus_fleet)\n",
    "# bus_fleet is the selected buses(A type) = 479"
   ]
  },
  {
   "cell_type": "code",
   "execution_count": null,
   "metadata": {},
   "outputs": [],
   "source": [
    "# Define new fleet dataframe\n",
    "fleet_df = df.loc[df['order'].isin(bus_fleet)]\n",
    "fleet_df"
   ]
  },
  {
   "cell_type": "code",
   "execution_count": null,
   "metadata": {},
   "outputs": [],
   "source": [
    "len(pd.unique(fleet_df['order']))\n",
    "# Allocate Bus types to each Order\n",
    "# M = Mini, D = Double Decker, E = Express, C = Coach\n",
    "bus_types = [\"M\", \"D\", \"E\", \"C\"]\n",
    "fleet_bus_types = []\n",
    "for i in range(len(fleet_df)):\n",
    "    fleet_bus_types.append(random.choice(bus_types))\n",
    "print(len(fleet_bus_types))\n",
    "print(fleet_bus_types)\n",
    "# number of data points overall = 4016518"
   ]
  },
  {
   "cell_type": "code",
   "execution_count": null,
   "metadata": {},
   "outputs": [],
   "source": [
    "fleet_df[\"type\"] = fleet_bus_types\n",
    "fleet_df"
   ]
  },
  {
   "cell_type": "code",
   "execution_count": 13,
   "metadata": {},
   "outputs": [],
   "source": [
    "fleet_df.to_csv(\"/home/ritul/Documents/fleetalytics/data/fleet_data.csv\", index=False)"
   ]
  },
  {
   "cell_type": "code",
   "execution_count": 4,
   "metadata": {},
   "outputs": [],
   "source": [
    "test_df = pd.read_csv(r'/home/ritul/Documents/Datasets/fleetalytics_data/fleet_data.csv')"
   ]
  },
  {
   "cell_type": "code",
   "execution_count": 11,
   "metadata": {},
   "outputs": [
    {
     "data": {
      "text/html": [
       "<div>\n",
       "<style scoped>\n",
       "    .dataframe tbody tr th:only-of-type {\n",
       "        vertical-align: middle;\n",
       "    }\n",
       "\n",
       "    .dataframe tbody tr th {\n",
       "        vertical-align: top;\n",
       "    }\n",
       "\n",
       "    .dataframe thead th {\n",
       "        text-align: right;\n",
       "    }\n",
       "</style>\n",
       "<table border=\"1\" class=\"dataframe\">\n",
       "  <thead>\n",
       "    <tr style=\"text-align: right;\">\n",
       "      <th></th>\n",
       "      <th>sr_num</th>\n",
       "      <th>date</th>\n",
       "      <th>time</th>\n",
       "      <th>order</th>\n",
       "      <th>line</th>\n",
       "      <th>latitude</th>\n",
       "      <th>longitude</th>\n",
       "      <th>speed</th>\n",
       "      <th>type</th>\n",
       "    </tr>\n",
       "  </thead>\n",
       "  <tbody>\n",
       "    <tr>\n",
       "      <th>0</th>\n",
       "      <td>1</td>\n",
       "      <td>02-12-2019</td>\n",
       "      <td>10:04:53</td>\n",
       "      <td>A41121</td>\n",
       "      <td>460.0</td>\n",
       "      <td>-22.983540</td>\n",
       "      <td>-43.217812</td>\n",
       "      <td>0.0</td>\n",
       "      <td>D</td>\n",
       "    </tr>\n",
       "    <tr>\n",
       "      <th>1</th>\n",
       "      <td>2</td>\n",
       "      <td>02-08-2019</td>\n",
       "      <td>19:36:03</td>\n",
       "      <td>A41121</td>\n",
       "      <td>460.0</td>\n",
       "      <td>-22.968451</td>\n",
       "      <td>-43.217350</td>\n",
       "      <td>26.0</td>\n",
       "      <td>D</td>\n",
       "    </tr>\n",
       "    <tr>\n",
       "      <th>2</th>\n",
       "      <td>3</td>\n",
       "      <td>02-08-2019</td>\n",
       "      <td>19:32:03</td>\n",
       "      <td>A41121</td>\n",
       "      <td>460.0</td>\n",
       "      <td>-22.971390</td>\n",
       "      <td>-43.217369</td>\n",
       "      <td>0.0</td>\n",
       "      <td>D</td>\n",
       "    </tr>\n",
       "    <tr>\n",
       "      <th>3</th>\n",
       "      <td>4</td>\n",
       "      <td>02-08-2019</td>\n",
       "      <td>19:30:33</td>\n",
       "      <td>A41121</td>\n",
       "      <td>460.0</td>\n",
       "      <td>-22.974239</td>\n",
       "      <td>-43.217991</td>\n",
       "      <td>21.0</td>\n",
       "      <td>D</td>\n",
       "    </tr>\n",
       "    <tr>\n",
       "      <th>4</th>\n",
       "      <td>5</td>\n",
       "      <td>02-08-2019</td>\n",
       "      <td>19:28:03</td>\n",
       "      <td>A41121</td>\n",
       "      <td>460.0</td>\n",
       "      <td>-22.978069</td>\n",
       "      <td>-43.224060</td>\n",
       "      <td>21.0</td>\n",
       "      <td>D</td>\n",
       "    </tr>\n",
       "    <tr>\n",
       "      <th>...</th>\n",
       "      <td>...</td>\n",
       "      <td>...</td>\n",
       "      <td>...</td>\n",
       "      <td>...</td>\n",
       "      <td>...</td>\n",
       "      <td>...</td>\n",
       "      <td>...</td>\n",
       "      <td>...</td>\n",
       "      <td>...</td>\n",
       "    </tr>\n",
       "    <tr>\n",
       "      <th>10059995</th>\n",
       "      <td>19996</td>\n",
       "      <td>03-11-2019</td>\n",
       "      <td>16:17:07</td>\n",
       "      <td>D87392</td>\n",
       "      <td>898.0</td>\n",
       "      <td>-22.984779</td>\n",
       "      <td>-43.685699</td>\n",
       "      <td>31.0</td>\n",
       "      <td>C</td>\n",
       "    </tr>\n",
       "    <tr>\n",
       "      <th>10059996</th>\n",
       "      <td>19997</td>\n",
       "      <td>02-07-2019</td>\n",
       "      <td>05:14:05</td>\n",
       "      <td>D87392</td>\n",
       "      <td>898.0</td>\n",
       "      <td>-22.955589</td>\n",
       "      <td>-43.687462</td>\n",
       "      <td>21.0</td>\n",
       "      <td>C</td>\n",
       "    </tr>\n",
       "    <tr>\n",
       "      <th>10059997</th>\n",
       "      <td>19998</td>\n",
       "      <td>02-07-2019</td>\n",
       "      <td>05:15:05</td>\n",
       "      <td>D87392</td>\n",
       "      <td>898.0</td>\n",
       "      <td>-22.957769</td>\n",
       "      <td>-43.690552</td>\n",
       "      <td>32.0</td>\n",
       "      <td>C</td>\n",
       "    </tr>\n",
       "    <tr>\n",
       "      <th>10059998</th>\n",
       "      <td>19999</td>\n",
       "      <td>02-25-2019</td>\n",
       "      <td>16:40:09</td>\n",
       "      <td>D87392</td>\n",
       "      <td>898.0</td>\n",
       "      <td>-22.923559</td>\n",
       "      <td>-43.691029</td>\n",
       "      <td>35.0</td>\n",
       "      <td>C</td>\n",
       "    </tr>\n",
       "    <tr>\n",
       "      <th>10059999</th>\n",
       "      <td>20000</td>\n",
       "      <td>02-07-2019</td>\n",
       "      <td>05:17:05</td>\n",
       "      <td>D87392</td>\n",
       "      <td>898.0</td>\n",
       "      <td>-22.963751</td>\n",
       "      <td>-43.703129</td>\n",
       "      <td>38.0</td>\n",
       "      <td>C</td>\n",
       "    </tr>\n",
       "  </tbody>\n",
       "</table>\n",
       "<p>10060000 rows × 9 columns</p>\n",
       "</div>"
      ],
      "text/plain": [
       "          sr_num        date      time   order   line   latitude  longitude  \\\n",
       "0              1  02-12-2019  10:04:53  A41121  460.0 -22.983540 -43.217812   \n",
       "1              2  02-08-2019  19:36:03  A41121  460.0 -22.968451 -43.217350   \n",
       "2              3  02-08-2019  19:32:03  A41121  460.0 -22.971390 -43.217369   \n",
       "3              4  02-08-2019  19:30:33  A41121  460.0 -22.974239 -43.217991   \n",
       "4              5  02-08-2019  19:28:03  A41121  460.0 -22.978069 -43.224060   \n",
       "...          ...         ...       ...     ...    ...        ...        ...   \n",
       "10059995   19996  03-11-2019  16:17:07  D87392  898.0 -22.984779 -43.685699   \n",
       "10059996   19997  02-07-2019  05:14:05  D87392  898.0 -22.955589 -43.687462   \n",
       "10059997   19998  02-07-2019  05:15:05  D87392  898.0 -22.957769 -43.690552   \n",
       "10059998   19999  02-25-2019  16:40:09  D87392  898.0 -22.923559 -43.691029   \n",
       "10059999   20000  02-07-2019  05:17:05  D87392  898.0 -22.963751 -43.703129   \n",
       "\n",
       "          speed type  \n",
       "0           0.0    D  \n",
       "1          26.0    D  \n",
       "2           0.0    D  \n",
       "3          21.0    D  \n",
       "4          21.0    D  \n",
       "...         ...  ...  \n",
       "10059995   31.0    C  \n",
       "10059996   21.0    C  \n",
       "10059997   32.0    C  \n",
       "10059998   35.0    C  \n",
       "10059999   38.0    C  \n",
       "\n",
       "[10060000 rows x 9 columns]"
      ]
     },
     "execution_count": 11,
     "metadata": {},
     "output_type": "execute_result"
    }
   ],
   "source": [
    "test_df['sr_num'] = sr_arr\n",
    "test_df"
   ]
  },
  {
   "cell_type": "code",
   "execution_count": 14,
   "metadata": {},
   "outputs": [],
   "source": [
    "test_df.to_csv(\"/home/ritul/Documents/Datasets/fleetalytics_data/fleet_data.csv\", index=False)"
   ]
  }
 ],
 "metadata": {
  "kernelspec": {
   "display_name": "Python 3.10.7 64-bit",
   "language": "python",
   "name": "python3"
  },
  "language_info": {
   "codemirror_mode": {
    "name": "ipython",
    "version": 3
   },
   "file_extension": ".py",
   "mimetype": "text/x-python",
   "name": "python",
   "nbconvert_exporter": "python",
   "pygments_lexer": "ipython3",
   "version": "3.10.7"
  },
  "orig_nbformat": 4,
  "vscode": {
   "interpreter": {
    "hash": "e7370f93d1d0cde622a1f8e1c04877d8463912d04d973331ad4851f04de6915a"
   }
  }
 },
 "nbformat": 4,
 "nbformat_minor": 2
}
