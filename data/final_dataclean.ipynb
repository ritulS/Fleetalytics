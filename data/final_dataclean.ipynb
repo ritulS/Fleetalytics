{
 "cells": [
  {
   "cell_type": "code",
   "execution_count": 4,
   "metadata": {},
   "outputs": [],
   "source": [
    "import pandas as pd\n",
    "import numpy as np\n",
    "import random\n",
    "from tqdm import tqdm"
   ]
  },
  {
   "cell_type": "code",
   "execution_count": 5,
   "metadata": {},
   "outputs": [],
   "source": [
    "# Load dataset\n",
    "df = pd.read_csv(r'/home/ritul/Documents/Datasets/archive/bus_gps_data/treatedBusDataOnlyRoute.csv')"
   ]
  },
  {
   "cell_type": "code",
   "execution_count": 6,
   "metadata": {},
   "outputs": [
    {
     "name": "stdout",
     "output_type": "stream",
     "text": [
      "5421\n"
     ]
    }
   ],
   "source": [
    "# Get list of Unique Orders\n",
    "# Extract unique VIN(order)\n",
    "df_unique = df.drop_duplicates(subset=[\"order\"],keep='first')\n",
    "df_unique.head()\n",
    "len(df_unique)\n",
    "bus_unique = df_unique[\"order\"].to_list()\n",
    "print(len(bus_unique))"
   ]
  },
  {
   "cell_type": "code",
   "execution_count": null,
   "metadata": {},
   "outputs": [],
   "source": [
    "\n",
    "bus_fleet = []\n",
    "for i in tqdm(range(len(bus_unique))):\n",
    "    if bus_unique[i][0] == \"A\":\n",
    "        bus_fleet.append(bus_unique[i])\n",
    "print(len(bus_fleet))\n",
    "print(bus_fleet)\n",
    "# bus_fleet is the selected buses(A type) = 479"
   ]
  },
  {
   "cell_type": "code",
   "execution_count": null,
   "metadata": {},
   "outputs": [],
   "source": [
    "# Define new fleet dataframe\n",
    "fleet_df = df.loc[df['order'].isin(bus_fleet)]\n",
    "fleet_df"
   ]
  },
  {
   "cell_type": "code",
   "execution_count": null,
   "metadata": {},
   "outputs": [],
   "source": [
    "len(pd.unique(fleet_df['order']))\n",
    "# Allocate Bus types to each Order\n",
    "# M = Mini, D = Double Decker, E = Express, C = Coach\n",
    "bus_types = [\"M\", \"D\", \"E\", \"C\"]\n",
    "fleet_bus_types = []\n",
    "for i in range(len(fleet_df)):\n",
    "    fleet_bus_types.append(random.choice(bus_types))\n",
    "print(len(fleet_bus_types))\n",
    "print(fleet_bus_types)\n",
    "# number of data points overall = 4016518"
   ]
  },
  {
   "cell_type": "code",
   "execution_count": null,
   "metadata": {},
   "outputs": [],
   "source": [
    "fleet_df[\"type\"] = fleet_bus_types\n",
    "fleet_df"
   ]
  },
  {
   "cell_type": "code",
   "execution_count": 13,
   "metadata": {},
   "outputs": [],
   "source": [
    "fleet_df.to_csv(\"/home/ritul/Documents/fleetalytics/data/fleet_data.csv\", index=False)"
   ]
  }
 ],
 "metadata": {
  "kernelspec": {
   "display_name": "Python 3.10.7 64-bit",
   "language": "python",
   "name": "python3"
  },
  "language_info": {
   "codemirror_mode": {
    "name": "ipython",
    "version": 3
   },
   "file_extension": ".py",
   "mimetype": "text/x-python",
   "name": "python",
   "nbconvert_exporter": "python",
   "pygments_lexer": "ipython3",
   "version": "3.10.7"
  },
  "orig_nbformat": 4,
  "vscode": {
   "interpreter": {
    "hash": "e7370f93d1d0cde622a1f8e1c04877d8463912d04d973331ad4851f04de6915a"
   }
  }
 },
 "nbformat": 4,
 "nbformat_minor": 2
}
