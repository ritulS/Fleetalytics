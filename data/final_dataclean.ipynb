{
 "cells": [
  {
   "cell_type": "code",
   "execution_count": 2,
   "metadata": {},
   "outputs": [],
   "source": [
    "import pandas as pd\n",
    "import numpy as np\n",
    "import random\n",
    "from tqdm import tqdm"
   ]
  },
  {
   "cell_type": "code",
   "execution_count": 3,
   "metadata": {},
   "outputs": [],
   "source": [
    "# Load dataset\n",
    "df = pd.read_csv(r'/home/ritul/Documents/Datasets/fleetalytics_data/fleet_data.csv')"
   ]
  },
  {
   "cell_type": "code",
   "execution_count": 4,
   "metadata": {},
   "outputs": [
    {
     "name": "stdout",
     "output_type": "stream",
     "text": [
      "503\n"
     ]
    }
   ],
   "source": [
    "# Get list of Unique Orders\n",
    "# Extract unique VIN(order)\n",
    "df_unique = df.drop_duplicates(subset=[\"order\"],keep='first')\n",
    "df_unique.head()\n",
    "len(df_unique)\n",
    "bus_unique = df_unique[\"order\"].to_list()\n",
    "print(len(bus_unique))"
   ]
  },
  {
   "cell_type": "code",
   "execution_count": 5,
   "metadata": {},
   "outputs": [
    {
     "name": "stdout",
     "output_type": "stream",
     "text": [
      "{'cars': [{'vin': 'A41121'}, {'vin': 'A48044'}, {'vin': 'A48051'}, {'vin': 'A71579'}, {'vin': 'B10048'}, {'vin': 'B10073'}, {'vin': 'B10516'}, {'vin': 'B10519'}, {'vin': 'B10522'}, {'vin': 'B10528'}, {'vin': 'B10560'}, {'vin': 'B10562'}, {'vin': 'B11506'}, {'vin': 'B11509'}, {'vin': 'B11510'}, {'vin': 'B11512'}, {'vin': 'B11515'}, {'vin': 'B11518'}, {'vin': 'B11519'}, {'vin': 'B11525'}, {'vin': 'B11528'}, {'vin': 'B11530'}, {'vin': 'B11538'}, {'vin': 'B11539'}, {'vin': 'B11541'}, {'vin': 'B11542'}, {'vin': 'B11543'}, {'vin': 'B11545'}, {'vin': 'B11546'}, {'vin': 'B11547'}, {'vin': 'B11548'}, {'vin': 'B11550'}, {'vin': 'B11556'}, {'vin': 'B11557'}, {'vin': 'B11561'}, {'vin': 'B11562'}, {'vin': 'B11563'}, {'vin': 'B11565'}, {'vin': 'B11569'}, {'vin': 'B11570'}, {'vin': 'B11572'}, {'vin': 'B11573'}, {'vin': 'B11576'}, {'vin': 'B11579'}, {'vin': 'B11580'}, {'vin': 'B11581'}, {'vin': 'B11583'}, {'vin': 'B11584'}, {'vin': 'B11585'}, {'vin': 'B11586'}, {'vin': 'B11598'}, {'vin': 'B11601'}, {'vin': 'B25570'}, {'vin': 'B25571'}, {'vin': 'B25586'}, {'vin': 'B25591'}, {'vin': 'B25592'}, {'vin': 'B25594'}, {'vin': 'B25598'}, {'vin': 'B25599'}, {'vin': 'B25600'}, {'vin': 'B25601'}, {'vin': 'B25603'}, {'vin': 'B25606'}, {'vin': 'B25608'}, {'vin': 'B25611'}, {'vin': 'B25614'}, {'vin': 'B25615'}, {'vin': 'B27001'}, {'vin': 'B27002'}, {'vin': 'B27003'}, {'vin': 'B27005'}, {'vin': 'B27012'}, {'vin': 'B27024'}, {'vin': 'B27026'}, {'vin': 'B27033'}, {'vin': 'B27037'}, {'vin': 'B27040'}, {'vin': 'B27042'}, {'vin': 'B27044'}, {'vin': 'B27047'}, {'vin': 'B27048'}, {'vin': 'B27070'}, {'vin': 'B27074'}, {'vin': 'B27080'}, {'vin': 'B27085'}, {'vin': 'B27087'}, {'vin': 'B27092'}, {'vin': 'B27094'}, {'vin': 'B27095'}, {'vin': 'B27096'}, {'vin': 'B27101'}, {'vin': 'B27104'}, {'vin': 'B27105'}, {'vin': 'B27131'}, {'vin': 'B27133'}, {'vin': 'B27148'}, {'vin': 'B27153'}, {'vin': 'B27154'}, {'vin': 'B27156'}, {'vin': 'B27161'}, {'vin': 'B27162'}, {'vin': 'B27180'}, {'vin': 'B27181'}, {'vin': 'B27182'}, {'vin': 'B27184'}, {'vin': 'B27192'}, {'vin': 'B28515'}, {'vin': 'B28516'}, {'vin': 'B28519'}, {'vin': 'B28535'}, {'vin': 'B28563'}, {'vin': 'B28619'}, {'vin': 'B28620'}, {'vin': 'B28621'}, {'vin': 'B28622'}, {'vin': 'B28624'}, {'vin': 'B32610'}, {'vin': 'B32660'}, {'vin': 'B42501'}, {'vin': 'B42521'}, {'vin': 'B42536'}, {'vin': 'B42548'}, {'vin': 'B42550'}, {'vin': 'B42576'}, {'vin': 'B42580'}, {'vin': 'B42601'}, {'vin': 'B42604'}, {'vin': 'B42605'}, {'vin': 'B42608'}, {'vin': 'B42611'}, {'vin': 'B42613'}, {'vin': 'B42615'}, {'vin': 'B42617'}, {'vin': 'B42620'}, {'vin': 'B42626'}, {'vin': 'B42631'}, {'vin': 'B42636'}, {'vin': 'B42639'}, {'vin': 'B42640'}, {'vin': 'B42647'}, {'vin': 'B42648'}, {'vin': 'B42649'}, {'vin': 'B42650'}, {'vin': 'B42664'}, {'vin': 'B42668'}, {'vin': 'B44536'}, {'vin': 'B44570'}, {'vin': 'B44596'}, {'vin': 'B44605'}, {'vin': 'B44646'}, {'vin': 'B51501'}, {'vin': 'B51503'}, {'vin': 'B51505'}, {'vin': 'B51507'}, {'vin': 'B51508'}, {'vin': 'B51514'}, {'vin': 'B51515'}, {'vin': 'B51517'}, {'vin': 'B51518'}, {'vin': 'B51520'}, {'vin': 'B51521'}, {'vin': 'B51522'}, {'vin': 'B51523'}, {'vin': 'B51524'}, {'vin': 'B51526'}, {'vin': 'B51527'}, {'vin': 'B51528'}, {'vin': 'B51529'}, {'vin': 'B51530'}, {'vin': 'B51531'}, {'vin': 'B51532'}, {'vin': 'B51533'}, {'vin': 'B51535'}, {'vin': 'B51539'}, {'vin': 'B51540'}, {'vin': 'B51541'}, {'vin': 'B51544'}, {'vin': 'B51545'}, {'vin': 'B51546'}, {'vin': 'B51547'}, {'vin': 'B51548'}, {'vin': 'B51549'}, {'vin': 'B51550'}, {'vin': 'B51551'}, {'vin': 'B51553'}, {'vin': 'B51554'}, {'vin': 'B51562'}, {'vin': 'B51563'}, {'vin': 'B51565'}, {'vin': 'B51569'}, {'vin': 'B51570'}, {'vin': 'B51572'}, {'vin': 'B51577'}, {'vin': 'B51585'}, {'vin': 'B51594'}, {'vin': 'B51595'}, {'vin': 'B51600'}, {'vin': 'B51601'}, {'vin': 'B51602'}, {'vin': 'B51604'}, {'vin': 'B51609'}, {'vin': 'B51611'}, {'vin': 'B51613'}, {'vin': 'B51614'}, {'vin': 'B51620'}, {'vin': 'B51621'}, {'vin': 'B51624'}, {'vin': 'B51625'}, {'vin': 'B51626'}, {'vin': 'B51627'}, {'vin': 'B51628'}, {'vin': 'B51629'}, {'vin': 'B51638'}, {'vin': 'B51639'}, {'vin': 'B51640'}, {'vin': 'B51643'}, {'vin': 'B51644'}, {'vin': 'B51645'}, {'vin': 'B51646'}, {'vin': 'B51648'}, {'vin': 'B51651'}, {'vin': 'B51652'}, {'vin': 'B58004'}, {'vin': 'B58007'}, {'vin': 'B58008'}, {'vin': 'B58010'}, {'vin': 'B58012'}, {'vin': 'B58013'}, {'vin': 'B58024'}, {'vin': 'B58025'}, {'vin': 'B58027'}, {'vin': 'B58029'}, {'vin': 'B58032'}, {'vin': 'B58034'}, {'vin': 'B58035'}, {'vin': 'B58039'}, {'vin': 'B58040'}, {'vin': 'B58043'}, {'vin': 'B58048'}, {'vin': 'B58052'}, {'vin': 'B58056'}, {'vin': 'B58059'}, {'vin': 'B58063'}, {'vin': 'B58067'}, {'vin': 'B58075'}, {'vin': 'B58084'}, {'vin': 'B58095'}, {'vin': 'B58096'}, {'vin': 'B58097'}, {'vin': 'B58099'}, {'vin': 'B58117'}, {'vin': 'B58123'}, {'vin': 'B58129'}, {'vin': 'B58146'}, {'vin': 'B58179'}, {'vin': 'C13010'}, {'vin': 'C13046'}, {'vin': 'C13047'}, {'vin': 'C13070'}, {'vin': 'C13082'}, {'vin': 'C27004'}, {'vin': 'C27015'}, {'vin': 'C27018'}, {'vin': 'C27022'}, {'vin': 'C27030'}, {'vin': 'C27035'}, {'vin': 'C27038'}, {'vin': 'C27072'}, {'vin': 'C27078'}, {'vin': 'C27083'}, {'vin': 'C27097'}, {'vin': 'C27114'}, {'vin': 'C27116'}, {'vin': 'C27167'}, {'vin': 'C27186'}, {'vin': 'C27193'}, {'vin': 'C27195'}, {'vin': 'C27196'}, {'vin': 'C27197'}, {'vin': 'C27198'}, {'vin': 'C30002'}, {'vin': 'C30020'}, {'vin': 'C30065'}, {'vin': 'C30279'}, {'vin': 'C30306'}, {'vin': 'C30307'}, {'vin': 'C42502'}, {'vin': 'C42507'}, {'vin': 'C42509'}, {'vin': 'C42514'}, {'vin': 'C42526'}, {'vin': 'C42528'}, {'vin': 'C42535'}, {'vin': 'C42537'}, {'vin': 'C42547'}, {'vin': 'C42549'}, {'vin': 'C42570'}, {'vin': 'C42571'}, {'vin': 'C42600'}, {'vin': 'C42623'}, {'vin': 'C42637'}, {'vin': 'C42671'}, {'vin': 'C47508'}, {'vin': 'C47509'}, {'vin': 'C47510'}, {'vin': 'C47511'}, {'vin': 'C47532'}, {'vin': 'C47543'}, {'vin': 'C47547'}, {'vin': 'C47555'}, {'vin': 'C47597'}, {'vin': 'C47624'}, {'vin': 'C47638'}, {'vin': 'C47639'}, {'vin': 'C47642'}, {'vin': 'C47646'}, {'vin': 'C47647'}, {'vin': 'C47648'}, {'vin': 'C47687'}, {'vin': 'C47688'}, {'vin': 'C47707'}, {'vin': 'C47744'}, {'vin': 'C47754'}, {'vin': 'C47759'}, {'vin': 'C47769'}, {'vin': 'C47773'}, {'vin': 'C47782'}, {'vin': 'C47783'}, {'vin': 'C47810'}, {'vin': 'C47812'}, {'vin': 'C47849'}, {'vin': 'C47871'}, {'vin': 'C51502'}, {'vin': 'C51506'}, {'vin': 'C51509'}, {'vin': 'C51510'}, {'vin': 'C51516'}, {'vin': 'C51525'}, {'vin': 'C51536'}, {'vin': 'C51538'}, {'vin': 'C51542'}, {'vin': 'C51543'}, {'vin': 'C51552'}, {'vin': 'C51555'}, {'vin': 'C51556'}, {'vin': 'C51557'}, {'vin': 'C51558'}, {'vin': 'C51559'}, {'vin': 'C51560'}, {'vin': 'C51561'}, {'vin': 'C51564'}, {'vin': 'C51567'}, {'vin': 'C51571'}, {'vin': 'C51574'}, {'vin': 'C51575'}, {'vin': 'C51576'}, {'vin': 'C51579'}, {'vin': 'C51580'}, {'vin': 'C51581'}, {'vin': 'C51582'}, {'vin': 'C51583'}, {'vin': 'C51588'}, {'vin': 'C51589'}, {'vin': 'C51590'}, {'vin': 'C51592'}, {'vin': 'C51597'}, {'vin': 'C51598'}, {'vin': 'C51603'}, {'vin': 'C51606'}, {'vin': 'C51607'}, {'vin': 'C51608'}, {'vin': 'C51610'}, {'vin': 'C51612'}, {'vin': 'C51615'}, {'vin': 'C51617'}, {'vin': 'C51618'}, {'vin': 'C51622'}, {'vin': 'C51623'}, {'vin': 'C51632'}, {'vin': 'C51633'}, {'vin': 'C51635'}, {'vin': 'C51636'}, {'vin': 'C51637'}, {'vin': 'C51641'}, {'vin': 'C51649'}, {'vin': 'C51654'}, {'vin': 'D13024'}, {'vin': 'D13034'}, {'vin': 'D13056'}, {'vin': 'D13062'}, {'vin': 'D13087'}, {'vin': 'D13094'}, {'vin': 'D13099'}, {'vin': 'D13105'}, {'vin': 'D13117'}, {'vin': 'D13125'}, {'vin': 'D13146'}, {'vin': 'D13178'}, {'vin': 'D13187'}, {'vin': 'D13194'}, {'vin': 'D13195'}, {'vin': 'D13198'}, {'vin': 'D13201'}, {'vin': 'D13202'}, {'vin': 'D13203'}, {'vin': 'D13211'}, {'vin': 'D13273'}, {'vin': 'D13277'}, {'vin': 'D13278'}, {'vin': 'D13373'}, {'vin': 'D17078'}, {'vin': 'D17109'}, {'vin': 'D17118'}, {'vin': 'D17122'}, {'vin': 'D17124'}, {'vin': 'D17126'}, {'vin': 'D53541'}, {'vin': 'D53544'}, {'vin': 'D53552'}, {'vin': 'D53648'}, {'vin': 'D53652'}, {'vin': 'D53715'}, {'vin': 'D53716'}, {'vin': 'D53721'}, {'vin': 'D53737'}, {'vin': 'D86004'}, {'vin': 'D86012'}, {'vin': 'D86023'}, {'vin': 'D86027'}, {'vin': 'D86028'}, {'vin': 'D86030'}, {'vin': 'D86050'}, {'vin': 'D86059'}, {'vin': 'D86070'}, {'vin': 'D86072'}, {'vin': 'D86081'}, {'vin': 'D86089'}, {'vin': 'D86090'}, {'vin': 'D86091'}, {'vin': 'D86105'}, {'vin': 'D86126'}, {'vin': 'D86127'}, {'vin': 'D86149'}, {'vin': 'D86168'}, {'vin': 'D86176'}, {'vin': 'D86188'}, {'vin': 'D86194'}, {'vin': 'D86203'}, {'vin': 'D86208'}, {'vin': 'D86215'}, {'vin': 'D86218'}, {'vin': 'D86225'}, {'vin': 'D86229'}, {'vin': 'D86250'}, {'vin': 'D86252'}, {'vin': 'D86254'}, {'vin': 'D86257'}, {'vin': 'D86258'}, {'vin': 'D86259'}, {'vin': 'D86264'}, {'vin': 'D86265'}, {'vin': 'D86266'}, {'vin': 'D86267'}, {'vin': 'D86268'}, {'vin': 'D86277'}, {'vin': 'D86279'}, {'vin': 'D86314'}, {'vin': 'D86316'}, {'vin': 'D86317'}, {'vin': 'D86318'}, {'vin': 'D86319'}, {'vin': 'D86320'}, {'vin': 'D86322'}, {'vin': 'D86323'}, {'vin': 'D86325'}, {'vin': 'D86326'}, {'vin': 'D86328'}, {'vin': 'D86330'}, {'vin': 'D86370'}, {'vin': 'D86374'}, {'vin': 'D86375'}, {'vin': 'D86378'}, {'vin': 'D86380'}, {'vin': 'D86381'}, {'vin': 'D86383'}, {'vin': 'D86384'}, {'vin': 'D86387'}, {'vin': 'D86389'}, {'vin': 'D86400'}, {'vin': 'D86402'}, {'vin': 'D86403'}, {'vin': 'D86405'}, {'vin': 'D86406'}, {'vin': 'D86408'}, {'vin': 'D86411'}, {'vin': 'D86788'}, {'vin': 'D86790'}, {'vin': 'D86791'}, {'vin': 'D87199'}, {'vin': 'D87306'}, {'vin': 'D87391'}, {'vin': 'D87392'}]}\n"
     ]
    }
   ],
   "source": [
    "'''{\n",
    "  \"cars\": [\n",
    "    { \"vin\": \"1abc3\" },\n",
    "    { \"vin\": \"435ac\" },\n",
    "    { \"vin\": \"fda34c\" },\n",
    "    { \"vin\": \"kz999\" }\n",
    "  ]\n",
    "}'''\n",
    "temp = {\n",
    "    \"cars\":[\n",
    "\n",
    "    ]\n",
    "}\n",
    "\n",
    "for i in bus_unique:\n",
    "    temp[\"cars\"].append({\"vin\":str(i)})\n",
    "\n",
    "print(temp)"
   ]
  },
  {
   "cell_type": "code",
   "execution_count": 4,
   "metadata": {},
   "outputs": [],
   "source": [
    "import json\n",
    "json_object = json.dumps(temp)\n",
    "with open(\"unique_vin.json\",\"w\") as outfile:\n",
    "    outfile.write(json_object)"
   ]
  },
  {
   "cell_type": "code",
   "execution_count": null,
   "metadata": {},
   "outputs": [],
   "source": [
    "val_counts = dict(df['order'].value_counts(ascending=False))\n",
    "print(val_counts)\n",
    "'''\n",
    "{'B51524': 32733, 'D53544': 32551, 'B51528': 31037, 'B51522': 30143, 'B51529': 30123, 'B51550': 29526, 'B51514': 29400, 'D86254': 29031, 'B51547': 28884, 'B51503': 28792, 'B51533': 28716,\n",
    " 'B51520': 28705, 'B51541': 28623, 'C51559': 28516, 'B51546': 28313, '\n",
    "'''"
   ]
  },
  {
   "cell_type": "code",
   "execution_count": null,
   "metadata": {},
   "outputs": [],
   "source": [
    "val_counts['B51524']\n",
    "valid_buses = []\n",
    "ctr = 0\n",
    "for i in val_counts:\n",
    "    if val_counts[i] > 20000:\n",
    "        valid_buses.append(i)\n",
    "        ctr += 1\n",
    "print(ctr)\n",
    "print(valid_buses)\n"
   ]
  },
  {
   "cell_type": "code",
   "execution_count": 16,
   "metadata": {},
   "outputs": [],
   "source": [
    "# Sorted Valid fleet => 503 buses\n",
    "valid_df = df.loc[df['order'].isin(valid_buses)]\n",
    "valid_df = valid_df.sort_values(by = 'order')"
   ]
  },
  {
   "cell_type": "code",
   "execution_count": 18,
   "metadata": {},
   "outputs": [
    {
     "data": {
      "text/plain": [
       "count     11466537\n",
       "unique         503\n",
       "top         B51524\n",
       "freq         32733\n",
       "Name: order, dtype: object"
      ]
     },
     "execution_count": 18,
     "metadata": {},
     "output_type": "execute_result"
    }
   ],
   "source": [
    "valid_df['order'].describe()"
   ]
  },
  {
   "cell_type": "code",
   "execution_count": 24,
   "metadata": {},
   "outputs": [
    {
     "name": "stderr",
     "output_type": "stream",
     "text": [
      "100%|██████████| 503/503 [05:09<00:00,  1.62it/s]\n"
     ]
    },
    {
     "name": "stdout",
     "output_type": "stream",
     "text": [
      "bus_chunks len:  503\n"
     ]
    },
    {
     "data": {
      "text/html": [
       "<div>\n",
       "<style scoped>\n",
       "    .dataframe tbody tr th:only-of-type {\n",
       "        vertical-align: middle;\n",
       "    }\n",
       "\n",
       "    .dataframe tbody tr th {\n",
       "        vertical-align: top;\n",
       "    }\n",
       "\n",
       "    .dataframe thead th {\n",
       "        text-align: right;\n",
       "    }\n",
       "</style>\n",
       "<table border=\"1\" class=\"dataframe\">\n",
       "  <thead>\n",
       "    <tr style=\"text-align: right;\">\n",
       "      <th></th>\n",
       "      <th>date</th>\n",
       "      <th>time</th>\n",
       "      <th>order</th>\n",
       "      <th>line</th>\n",
       "      <th>latitude</th>\n",
       "      <th>longitude</th>\n",
       "      <th>speed</th>\n",
       "    </tr>\n",
       "  </thead>\n",
       "  <tbody>\n",
       "    <tr>\n",
       "      <th>14291325</th>\n",
       "      <td>02-12-2019</td>\n",
       "      <td>10:04:53</td>\n",
       "      <td>A41121</td>\n",
       "      <td>460.0</td>\n",
       "      <td>-22.983540</td>\n",
       "      <td>-43.217812</td>\n",
       "      <td>0.0</td>\n",
       "    </tr>\n",
       "    <tr>\n",
       "      <th>14262229</th>\n",
       "      <td>02-08-2019</td>\n",
       "      <td>19:36:03</td>\n",
       "      <td>A41121</td>\n",
       "      <td>460.0</td>\n",
       "      <td>-22.968451</td>\n",
       "      <td>-43.217350</td>\n",
       "      <td>26.0</td>\n",
       "    </tr>\n",
       "    <tr>\n",
       "      <th>14262184</th>\n",
       "      <td>02-08-2019</td>\n",
       "      <td>19:32:03</td>\n",
       "      <td>A41121</td>\n",
       "      <td>460.0</td>\n",
       "      <td>-22.971390</td>\n",
       "      <td>-43.217369</td>\n",
       "      <td>0.0</td>\n",
       "    </tr>\n",
       "    <tr>\n",
       "      <th>14262160</th>\n",
       "      <td>02-08-2019</td>\n",
       "      <td>19:30:33</td>\n",
       "      <td>A41121</td>\n",
       "      <td>460.0</td>\n",
       "      <td>-22.974239</td>\n",
       "      <td>-43.217991</td>\n",
       "      <td>21.0</td>\n",
       "    </tr>\n",
       "    <tr>\n",
       "      <th>14262127</th>\n",
       "      <td>02-08-2019</td>\n",
       "      <td>19:28:03</td>\n",
       "      <td>A41121</td>\n",
       "      <td>460.0</td>\n",
       "      <td>-22.978069</td>\n",
       "      <td>-43.224060</td>\n",
       "      <td>21.0</td>\n",
       "    </tr>\n",
       "    <tr>\n",
       "      <th>...</th>\n",
       "      <td>...</td>\n",
       "      <td>...</td>\n",
       "      <td>...</td>\n",
       "      <td>...</td>\n",
       "      <td>...</td>\n",
       "      <td>...</td>\n",
       "      <td>...</td>\n",
       "    </tr>\n",
       "    <tr>\n",
       "      <th>31480584</th>\n",
       "      <td>03-11-2019</td>\n",
       "      <td>16:17:07</td>\n",
       "      <td>D87392</td>\n",
       "      <td>898.0</td>\n",
       "      <td>-22.984779</td>\n",
       "      <td>-43.685699</td>\n",
       "      <td>31.0</td>\n",
       "    </tr>\n",
       "    <tr>\n",
       "      <th>31370556</th>\n",
       "      <td>02-07-2019</td>\n",
       "      <td>05:14:05</td>\n",
       "      <td>D87392</td>\n",
       "      <td>898.0</td>\n",
       "      <td>-22.955589</td>\n",
       "      <td>-43.687462</td>\n",
       "      <td>21.0</td>\n",
       "    </tr>\n",
       "    <tr>\n",
       "      <th>31370558</th>\n",
       "      <td>02-07-2019</td>\n",
       "      <td>05:15:05</td>\n",
       "      <td>D87392</td>\n",
       "      <td>898.0</td>\n",
       "      <td>-22.957769</td>\n",
       "      <td>-43.690552</td>\n",
       "      <td>32.0</td>\n",
       "    </tr>\n",
       "    <tr>\n",
       "      <th>31433629</th>\n",
       "      <td>02-25-2019</td>\n",
       "      <td>16:40:09</td>\n",
       "      <td>D87392</td>\n",
       "      <td>898.0</td>\n",
       "      <td>-22.923559</td>\n",
       "      <td>-43.691029</td>\n",
       "      <td>35.0</td>\n",
       "    </tr>\n",
       "    <tr>\n",
       "      <th>31370562</th>\n",
       "      <td>02-07-2019</td>\n",
       "      <td>05:17:05</td>\n",
       "      <td>D87392</td>\n",
       "      <td>898.0</td>\n",
       "      <td>-22.963751</td>\n",
       "      <td>-43.703129</td>\n",
       "      <td>38.0</td>\n",
       "    </tr>\n",
       "  </tbody>\n",
       "</table>\n",
       "<p>10060000 rows × 7 columns</p>\n",
       "</div>"
      ],
      "text/plain": [
       "                date      time   order   line   latitude  longitude  speed\n",
       "14291325  02-12-2019  10:04:53  A41121  460.0 -22.983540 -43.217812    0.0\n",
       "14262229  02-08-2019  19:36:03  A41121  460.0 -22.968451 -43.217350   26.0\n",
       "14262184  02-08-2019  19:32:03  A41121  460.0 -22.971390 -43.217369    0.0\n",
       "14262160  02-08-2019  19:30:33  A41121  460.0 -22.974239 -43.217991   21.0\n",
       "14262127  02-08-2019  19:28:03  A41121  460.0 -22.978069 -43.224060   21.0\n",
       "...              ...       ...     ...    ...        ...        ...    ...\n",
       "31480584  03-11-2019  16:17:07  D87392  898.0 -22.984779 -43.685699   31.0\n",
       "31370556  02-07-2019  05:14:05  D87392  898.0 -22.955589 -43.687462   21.0\n",
       "31370558  02-07-2019  05:15:05  D87392  898.0 -22.957769 -43.690552   32.0\n",
       "31433629  02-25-2019  16:40:09  D87392  898.0 -22.923559 -43.691029   35.0\n",
       "31370562  02-07-2019  05:17:05  D87392  898.0 -22.963751 -43.703129   38.0\n",
       "\n",
       "[10060000 rows x 7 columns]"
      ]
     },
     "execution_count": 24,
     "metadata": {},
     "output_type": "execute_result"
    }
   ],
   "source": [
    "# final_df = pd.DataFrame(data=None, columns=valid_df.columns, index=valid_df.index)\n",
    "bus_chunks = []\n",
    "for i in tqdm(valid_df['order'].unique()):\n",
    "    x = valid_df[valid_df['order']== i].head(20000)\n",
    "    bus_chunks.append(x)\n",
    "print(\"bus_chunks len: \", len(bus_chunks))\n",
    "final_df = pd.concat(bus_chunks)\n",
    "final_df"
   ]
  },
  {
   "cell_type": "code",
   "execution_count": 25,
   "metadata": {},
   "outputs": [],
   "source": [
    "# Total datapoints in final_df = 10060000\n",
    "final_df.to_csv(\"/home/ritul/Documents/Datasets/fleetalytics_data/fleet_data.csv\", index=False)"
   ]
  },
  {
   "cell_type": "code",
   "execution_count": 28,
   "metadata": {},
   "outputs": [
    {
     "name": "stderr",
     "output_type": "stream",
     "text": [
      "100%|██████████| 503/503 [00:00<00:00, 926.13it/s]"
     ]
    },
    {
     "name": "stdout",
     "output_type": "stream",
     "text": [
      "10060000\n"
     ]
    },
    {
     "name": "stderr",
     "output_type": "stream",
     "text": [
      "\n"
     ]
    }
   ],
   "source": [
    "# Allocate Bus types to each Order\n",
    "# M = Mini, D = Double Decker, E = Express, C = Coach\n",
    "bus_types = [\"M\", \"D\", \"E\", \"C\"]\n",
    "types_arr = []\n",
    "for i in tqdm(range(503)):\n",
    "    bt = random.choice(bus_types)\n",
    "    for i in range(20000):\n",
    "        types_arr.append(bt)\n",
    "    \n",
    "print(len(types_arr))"
   ]
  },
  {
   "cell_type": "code",
   "execution_count": 13,
   "metadata": {},
   "outputs": [
    {
     "name": "stderr",
     "output_type": "stream",
     "text": [
      "100%|██████████| 503/503 [00:00<00:00, 512.37it/s]"
     ]
    },
    {
     "name": "stdout",
     "output_type": "stream",
     "text": [
      "10060000\n"
     ]
    },
    {
     "name": "stderr",
     "output_type": "stream",
     "text": [
      "\n"
     ]
    }
   ],
   "source": [
    "sr_arr = []\n",
    "\n",
    "for i in tqdm(range(503)):\n",
    "    m = 1\n",
    "    for i in range(20000):\n",
    "        sr_arr.append(m)\n",
    "        m += 1 \n",
    "    #print(m)\n",
    "print(len(sr_arr))\n"
   ]
  },
  {
   "cell_type": "code",
   "execution_count": 36,
   "metadata": {},
   "outputs": [],
   "source": [
    "final_df[\"type\"] = types_arr\n",
    "check_df = final_df.insert(0, \"sr_num\", sr_arr)\n",
    "check_df"
   ]
  },
  {
   "cell_type": "code",
   "execution_count": 1,
   "metadata": {},
   "outputs": [
    {
     "ename": "NameError",
     "evalue": "name 'final_df' is not defined",
     "output_type": "error",
     "traceback": [
      "\u001b[0;31m---------------------------------------------------------------------------\u001b[0m",
      "\u001b[0;31mNameError\u001b[0m                                 Traceback (most recent call last)",
      "\u001b[0;32m/tmp/ipykernel_31618/4209045385.py\u001b[0m in \u001b[0;36m<module>\u001b[0;34m\u001b[0m\n\u001b[0;32m----> 1\u001b[0;31m \u001b[0mfinal_df\u001b[0m\u001b[0;34m.\u001b[0m\u001b[0mhead\u001b[0m\u001b[0;34m(\u001b[0m\u001b[0;34m)\u001b[0m\u001b[0;34m\u001b[0m\u001b[0;34m\u001b[0m\u001b[0m\n\u001b[0m\u001b[1;32m      2\u001b[0m \u001b[0;34m\u001b[0m\u001b[0m\n\u001b[1;32m      3\u001b[0m \u001b[0;31m# final_df.drop(columns=df.columns[0], axis=1, inplace=True)\u001b[0m\u001b[0;34m\u001b[0m\u001b[0;34m\u001b[0m\u001b[0m\n",
      "\u001b[0;31mNameError\u001b[0m: name 'final_df' is not defined"
     ]
    }
   ],
   "source": [
    "final_df.head()\n",
    "\n",
    "# final_df.drop(columns=df.columns[0], axis=1, inplace=True)"
   ]
  },
  {
   "cell_type": "code",
   "execution_count": 38,
   "metadata": {},
   "outputs": [],
   "source": [
    "final_df.to_csv(\"/home/ritul/Documents/Datasets/fleetalytics_data/fleet_data.csv\", index=False)"
   ]
  },
  {
   "cell_type": "code",
   "execution_count": null,
   "metadata": {},
   "outputs": [],
   "source": [
    "bus_fleet = []\n",
    "for i in tqdm(range(len(bus_unique))):\n",
    "    if bus_unique[i][0] == \"A\":\n",
    "        bus_fleet.append(bus_unique[i])\n",
    "print(len(bus_fleet))\n",
    "print(bus_fleet)\n",
    "# bus_fleet is the selected buses(A type) = 479"
   ]
  },
  {
   "cell_type": "code",
   "execution_count": null,
   "metadata": {},
   "outputs": [],
   "source": [
    "# Define new fleet dataframe\n",
    "fleet_df = df.loc[df['order'].isin(bus_fleet)]\n",
    "fleet_df"
   ]
  },
  {
   "cell_type": "code",
   "execution_count": null,
   "metadata": {},
   "outputs": [],
   "source": [
    "len(pd.unique(fleet_df['order']))\n",
    "# Allocate Bus types to each Order\n",
    "# M = Mini, D = Double Decker, E = Express, C = Coach\n",
    "bus_types = [\"M\", \"D\", \"E\", \"C\"]\n",
    "fleet_bus_types = []\n",
    "for i in range(len(fleet_df)):\n",
    "    fleet_bus_types.append(random.choice(bus_types))\n",
    "print(len(fleet_bus_types))\n",
    "print(fleet_bus_types)\n",
    "# number of data points overall = 4016518"
   ]
  },
  {
   "cell_type": "code",
   "execution_count": null,
   "metadata": {},
   "outputs": [],
   "source": [
    "fleet_df[\"type\"] = fleet_bus_types\n",
    "fleet_df"
   ]
  },
  {
   "cell_type": "code",
   "execution_count": 13,
   "metadata": {},
   "outputs": [],
   "source": [
    "fleet_df.to_csv(\"/home/ritul/Documents/fleetalytics/data/fleet_data.csv\", index=False)"
   ]
  },
  {
   "cell_type": "code",
   "execution_count": 4,
   "metadata": {},
   "outputs": [],
   "source": [
    "test_df = pd.read_csv(r'/home/ritul/Documents/Datasets/fleetalytics_data/fleet_data.csv')"
   ]
  },
  {
   "cell_type": "code",
   "execution_count": 11,
   "metadata": {},
   "outputs": [
    {
     "data": {
      "text/html": [
       "<div>\n",
       "<style scoped>\n",
       "    .dataframe tbody tr th:only-of-type {\n",
       "        vertical-align: middle;\n",
       "    }\n",
       "\n",
       "    .dataframe tbody tr th {\n",
       "        vertical-align: top;\n",
       "    }\n",
       "\n",
       "    .dataframe thead th {\n",
       "        text-align: right;\n",
       "    }\n",
       "</style>\n",
       "<table border=\"1\" class=\"dataframe\">\n",
       "  <thead>\n",
       "    <tr style=\"text-align: right;\">\n",
       "      <th></th>\n",
       "      <th>sr_num</th>\n",
       "      <th>date</th>\n",
       "      <th>time</th>\n",
       "      <th>order</th>\n",
       "      <th>line</th>\n",
       "      <th>latitude</th>\n",
       "      <th>longitude</th>\n",
       "      <th>speed</th>\n",
       "      <th>type</th>\n",
       "    </tr>\n",
       "  </thead>\n",
       "  <tbody>\n",
       "    <tr>\n",
       "      <th>0</th>\n",
       "      <td>1</td>\n",
       "      <td>02-12-2019</td>\n",
       "      <td>10:04:53</td>\n",
       "      <td>A41121</td>\n",
       "      <td>460.0</td>\n",
       "      <td>-22.983540</td>\n",
       "      <td>-43.217812</td>\n",
       "      <td>0.0</td>\n",
       "      <td>D</td>\n",
       "    </tr>\n",
       "    <tr>\n",
       "      <th>1</th>\n",
       "      <td>2</td>\n",
       "      <td>02-08-2019</td>\n",
       "      <td>19:36:03</td>\n",
       "      <td>A41121</td>\n",
       "      <td>460.0</td>\n",
       "      <td>-22.968451</td>\n",
       "      <td>-43.217350</td>\n",
       "      <td>26.0</td>\n",
       "      <td>D</td>\n",
       "    </tr>\n",
       "    <tr>\n",
       "      <th>2</th>\n",
       "      <td>3</td>\n",
       "      <td>02-08-2019</td>\n",
       "      <td>19:32:03</td>\n",
       "      <td>A41121</td>\n",
       "      <td>460.0</td>\n",
       "      <td>-22.971390</td>\n",
       "      <td>-43.217369</td>\n",
       "      <td>0.0</td>\n",
       "      <td>D</td>\n",
       "    </tr>\n",
       "    <tr>\n",
       "      <th>3</th>\n",
       "      <td>4</td>\n",
       "      <td>02-08-2019</td>\n",
       "      <td>19:30:33</td>\n",
       "      <td>A41121</td>\n",
       "      <td>460.0</td>\n",
       "      <td>-22.974239</td>\n",
       "      <td>-43.217991</td>\n",
       "      <td>21.0</td>\n",
       "      <td>D</td>\n",
       "    </tr>\n",
       "    <tr>\n",
       "      <th>4</th>\n",
       "      <td>5</td>\n",
       "      <td>02-08-2019</td>\n",
       "      <td>19:28:03</td>\n",
       "      <td>A41121</td>\n",
       "      <td>460.0</td>\n",
       "      <td>-22.978069</td>\n",
       "      <td>-43.224060</td>\n",
       "      <td>21.0</td>\n",
       "      <td>D</td>\n",
       "    </tr>\n",
       "    <tr>\n",
       "      <th>...</th>\n",
       "      <td>...</td>\n",
       "      <td>...</td>\n",
       "      <td>...</td>\n",
       "      <td>...</td>\n",
       "      <td>...</td>\n",
       "      <td>...</td>\n",
       "      <td>...</td>\n",
       "      <td>...</td>\n",
       "      <td>...</td>\n",
       "    </tr>\n",
       "    <tr>\n",
       "      <th>10059995</th>\n",
       "      <td>19996</td>\n",
       "      <td>03-11-2019</td>\n",
       "      <td>16:17:07</td>\n",
       "      <td>D87392</td>\n",
       "      <td>898.0</td>\n",
       "      <td>-22.984779</td>\n",
       "      <td>-43.685699</td>\n",
       "      <td>31.0</td>\n",
       "      <td>C</td>\n",
       "    </tr>\n",
       "    <tr>\n",
       "      <th>10059996</th>\n",
       "      <td>19997</td>\n",
       "      <td>02-07-2019</td>\n",
       "      <td>05:14:05</td>\n",
       "      <td>D87392</td>\n",
       "      <td>898.0</td>\n",
       "      <td>-22.955589</td>\n",
       "      <td>-43.687462</td>\n",
       "      <td>21.0</td>\n",
       "      <td>C</td>\n",
       "    </tr>\n",
       "    <tr>\n",
       "      <th>10059997</th>\n",
       "      <td>19998</td>\n",
       "      <td>02-07-2019</td>\n",
       "      <td>05:15:05</td>\n",
       "      <td>D87392</td>\n",
       "      <td>898.0</td>\n",
       "      <td>-22.957769</td>\n",
       "      <td>-43.690552</td>\n",
       "      <td>32.0</td>\n",
       "      <td>C</td>\n",
       "    </tr>\n",
       "    <tr>\n",
       "      <th>10059998</th>\n",
       "      <td>19999</td>\n",
       "      <td>02-25-2019</td>\n",
       "      <td>16:40:09</td>\n",
       "      <td>D87392</td>\n",
       "      <td>898.0</td>\n",
       "      <td>-22.923559</td>\n",
       "      <td>-43.691029</td>\n",
       "      <td>35.0</td>\n",
       "      <td>C</td>\n",
       "    </tr>\n",
       "    <tr>\n",
       "      <th>10059999</th>\n",
       "      <td>20000</td>\n",
       "      <td>02-07-2019</td>\n",
       "      <td>05:17:05</td>\n",
       "      <td>D87392</td>\n",
       "      <td>898.0</td>\n",
       "      <td>-22.963751</td>\n",
       "      <td>-43.703129</td>\n",
       "      <td>38.0</td>\n",
       "      <td>C</td>\n",
       "    </tr>\n",
       "  </tbody>\n",
       "</table>\n",
       "<p>10060000 rows × 9 columns</p>\n",
       "</div>"
      ],
      "text/plain": [
       "          sr_num        date      time   order   line   latitude  longitude  \\\n",
       "0              1  02-12-2019  10:04:53  A41121  460.0 -22.983540 -43.217812   \n",
       "1              2  02-08-2019  19:36:03  A41121  460.0 -22.968451 -43.217350   \n",
       "2              3  02-08-2019  19:32:03  A41121  460.0 -22.971390 -43.217369   \n",
       "3              4  02-08-2019  19:30:33  A41121  460.0 -22.974239 -43.217991   \n",
       "4              5  02-08-2019  19:28:03  A41121  460.0 -22.978069 -43.224060   \n",
       "...          ...         ...       ...     ...    ...        ...        ...   \n",
       "10059995   19996  03-11-2019  16:17:07  D87392  898.0 -22.984779 -43.685699   \n",
       "10059996   19997  02-07-2019  05:14:05  D87392  898.0 -22.955589 -43.687462   \n",
       "10059997   19998  02-07-2019  05:15:05  D87392  898.0 -22.957769 -43.690552   \n",
       "10059998   19999  02-25-2019  16:40:09  D87392  898.0 -22.923559 -43.691029   \n",
       "10059999   20000  02-07-2019  05:17:05  D87392  898.0 -22.963751 -43.703129   \n",
       "\n",
       "          speed type  \n",
       "0           0.0    D  \n",
       "1          26.0    D  \n",
       "2           0.0    D  \n",
       "3          21.0    D  \n",
       "4          21.0    D  \n",
       "...         ...  ...  \n",
       "10059995   31.0    C  \n",
       "10059996   21.0    C  \n",
       "10059997   32.0    C  \n",
       "10059998   35.0    C  \n",
       "10059999   38.0    C  \n",
       "\n",
       "[10060000 rows x 9 columns]"
      ]
     },
     "execution_count": 11,
     "metadata": {},
     "output_type": "execute_result"
    }
   ],
   "source": [
    "test_df['sr_num'] = sr_arr\n",
    "test_df"
   ]
  },
  {
   "cell_type": "code",
   "execution_count": 14,
   "metadata": {},
   "outputs": [],
   "source": [
    "test_df.to_csv(\"/home/ritul/Documents/Datasets/fleetalytics_data/fleet_data.csv\", index=False)"
   ]
  }
 ],
 "metadata": {
  "kernelspec": {
   "display_name": "Python 3.10.7 64-bit",
   "language": "python",
   "name": "python3"
  },
  "language_info": {
   "codemirror_mode": {
    "name": "ipython",
    "version": 3
   },
   "file_extension": ".py",
   "mimetype": "text/x-python",
   "name": "python",
   "nbconvert_exporter": "python",
   "pygments_lexer": "ipython3",
   "version": "3.10.7"
  },
  "orig_nbformat": 4,
  "vscode": {
   "interpreter": {
    "hash": "e7370f93d1d0cde622a1f8e1c04877d8463912d04d973331ad4851f04de6915a"
   }
  }
 },
 "nbformat": 4,
 "nbformat_minor": 2
}
