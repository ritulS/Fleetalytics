{
 "cells": [
  {
   "cell_type": "code",
   "execution_count": 1,
   "metadata": {},
   "outputs": [],
   "source": [
    "import pandas as pd\n",
    "import numpy as np\n",
    "\n",
    "###### Link to Vehicle dataset\n",
    "#to be added"
   ]
  },
  {
   "cell_type": "code",
   "execution_count": 2,
   "metadata": {},
   "outputs": [],
   "source": [
    "# Load dataset\n",
    "df = pd.read_csv(r'/home/ritul/Documents/Datasets/archive/bus_gps_data/treatedBusDataOnlyRoute.csv')"
   ]
  },
  {
   "cell_type": "code",
   "execution_count": 3,
   "metadata": {},
   "outputs": [
    {
     "name": "stdout",
     "output_type": "stream",
     "text": [
      "         date      time   order   line   latitude  longitude  speed\n",
      "0  01-25-2019  08:50:39  C51623  371.0 -22.883270  -43.34256   37.0\n",
      "1  01-25-2019  08:55:43  C51556  371.0 -22.887461  -43.28273    8.0\n",
      "2  01-25-2019  08:56:37  C51641  371.0 -22.884029  -43.34251   19.0\n",
      "3  01-25-2019  08:57:24  C51649  371.0 -22.881630  -43.29324   15.0\n",
      "4  01-25-2019  08:57:27  C51561  371.0 -22.907370  -43.23761   13.0\n"
     ]
    }
   ],
   "source": [
    "test = df.head(5)\n",
    "print(test)"
   ]
  },
  {
   "cell_type": "code",
   "execution_count": 50,
   "metadata": {},
   "outputs": [],
   "source": [
    "test_df = df.loc[df['order'] == 'C51623']\n",
    "test_df.reset_index(drop=True, inplace=True)\n",
    "test_df\n",
    "test_df.to_csv(\"/home/ritul/Documents/fleetalytics/data/test_vehicle.csv\", index=False)\n"
   ]
  },
  {
   "cell_type": "code",
   "execution_count": 51,
   "metadata": {},
   "outputs": [
    {
     "name": "stdout",
     "output_type": "stream",
     "text": [
      "22410\n",
      "         date      time   order   line   latitude  longitude  speed\n",
      "0  01-25-2019  08:50:39  C51623  371.0 -22.883270 -43.342560   37.0\n",
      "1  01-25-2019  09:08:12  C51623  371.0 -22.898211 -43.350029    0.0\n",
      "2  01-25-2019  09:09:43  C51623  371.0 -22.900921 -43.346779    0.0\n",
      "3  01-25-2019  09:10:42  C51623  371.0 -22.901060 -43.346989    0.0\n",
      "4  01-25-2019  09:22:44  C51623  371.0 -22.898970 -43.351940   36.0\n"
     ]
    },
    {
     "name": "stderr",
     "output_type": "stream",
     "text": [
      "/tmp/ipykernel_16318/1909592413.py:8: SettingWithCopyWarning: \n",
      "A value is trying to be set on a copy of a slice from a DataFrame\n",
      "\n",
      "See the caveats in the documentation: https://pandas.pydata.org/pandas-docs/stable/user_guide/indexing.html#returning-a-view-versus-a-copy\n",
      "  test_df['date'][i] = x\n"
     ]
    },
    {
     "data": {
      "text/html": [
       "<div>\n",
       "<style scoped>\n",
       "    .dataframe tbody tr th:only-of-type {\n",
       "        vertical-align: middle;\n",
       "    }\n",
       "\n",
       "    .dataframe tbody tr th {\n",
       "        vertical-align: top;\n",
       "    }\n",
       "\n",
       "    .dataframe thead th {\n",
       "        text-align: right;\n",
       "    }\n",
       "</style>\n",
       "<table border=\"1\" class=\"dataframe\">\n",
       "  <thead>\n",
       "    <tr style=\"text-align: right;\">\n",
       "      <th></th>\n",
       "      <th>date</th>\n",
       "      <th>time</th>\n",
       "      <th>order</th>\n",
       "      <th>line</th>\n",
       "      <th>latitude</th>\n",
       "      <th>longitude</th>\n",
       "      <th>speed</th>\n",
       "    </tr>\n",
       "  </thead>\n",
       "  <tbody>\n",
       "    <tr>\n",
       "      <th>0</th>\n",
       "      <td>2019-01-25</td>\n",
       "      <td>08:50:39</td>\n",
       "      <td>C51623</td>\n",
       "      <td>371.0</td>\n",
       "      <td>-22.883270</td>\n",
       "      <td>-43.342560</td>\n",
       "      <td>37.0</td>\n",
       "    </tr>\n",
       "    <tr>\n",
       "      <th>1</th>\n",
       "      <td>2019-01-25</td>\n",
       "      <td>09:08:12</td>\n",
       "      <td>C51623</td>\n",
       "      <td>371.0</td>\n",
       "      <td>-22.898211</td>\n",
       "      <td>-43.350029</td>\n",
       "      <td>0.0</td>\n",
       "    </tr>\n",
       "    <tr>\n",
       "      <th>2</th>\n",
       "      <td>2019-01-25</td>\n",
       "      <td>09:09:43</td>\n",
       "      <td>C51623</td>\n",
       "      <td>371.0</td>\n",
       "      <td>-22.900921</td>\n",
       "      <td>-43.346779</td>\n",
       "      <td>0.0</td>\n",
       "    </tr>\n",
       "    <tr>\n",
       "      <th>3</th>\n",
       "      <td>2019-01-25</td>\n",
       "      <td>09:10:42</td>\n",
       "      <td>C51623</td>\n",
       "      <td>371.0</td>\n",
       "      <td>-22.901060</td>\n",
       "      <td>-43.346989</td>\n",
       "      <td>0.0</td>\n",
       "    </tr>\n",
       "    <tr>\n",
       "      <th>4</th>\n",
       "      <td>2019-01-25</td>\n",
       "      <td>09:22:44</td>\n",
       "      <td>C51623</td>\n",
       "      <td>371.0</td>\n",
       "      <td>-22.898970</td>\n",
       "      <td>-43.351940</td>\n",
       "      <td>36.0</td>\n",
       "    </tr>\n",
       "  </tbody>\n",
       "</table>\n",
       "</div>"
      ],
      "text/plain": [
       "         date      time   order   line   latitude  longitude  speed\n",
       "0  2019-01-25  08:50:39  C51623  371.0 -22.883270 -43.342560   37.0\n",
       "1  2019-01-25  09:08:12  C51623  371.0 -22.898211 -43.350029    0.0\n",
       "2  2019-01-25  09:09:43  C51623  371.0 -22.900921 -43.346779    0.0\n",
       "3  2019-01-25  09:10:42  C51623  371.0 -22.901060 -43.346989    0.0\n",
       "4  2019-01-25  09:22:44  C51623  371.0 -22.898970 -43.351940   36.0"
      ]
     },
     "execution_count": 51,
     "metadata": {},
     "output_type": "execute_result"
    }
   ],
   "source": [
    "# ## RUN ONLY AFTER RUNNING PREV CELL\n",
    "\n",
    "# print(len(test_df['date']))\n",
    "# print(test_df.head())\n",
    "# # Change date format to SQL DATE type\n",
    "# for i in range(len(test_df)):\n",
    "#     x = test_df['date'][i][6:] + \"-\" + test_df['date'][i][0:2] + \"-\" + test_df['date'][i][3:5]\n",
    "#     test_df['date'][i] = x\n",
    "    \n",
    "# test_df.to_csv(\"/home/ritul/Documents/fleetalytics/data/test_vehicle.csv\", index=False)\n",
    "# test_df.head()"
   ]
  },
  {
   "cell_type": "code",
   "execution_count": 53,
   "metadata": {},
   "outputs": [
    {
     "data": {
      "text/plain": [
       "str"
      ]
     },
     "execution_count": 53,
     "metadata": {},
     "output_type": "execute_result"
    }
   ],
   "source": [
    "type(test_df['date'][0])\n",
    "## \\COPY table FROM 'file.csv' WITH ( FORMAT CSV, HEADER true );"
   ]
  }
 ],
 "metadata": {
  "kernelspec": {
   "display_name": "Python 3.10.7 64-bit",
   "language": "python",
   "name": "python3"
  },
  "language_info": {
   "codemirror_mode": {
    "name": "ipython",
    "version": 3
   },
   "file_extension": ".py",
   "mimetype": "text/x-python",
   "name": "python",
   "nbconvert_exporter": "python",
   "pygments_lexer": "ipython3",
   "version": "3.10.7"
  },
  "orig_nbformat": 4,
  "vscode": {
   "interpreter": {
    "hash": "e7370f93d1d0cde622a1f8e1c04877d8463912d04d973331ad4851f04de6915a"
   }
  }
 },
 "nbformat": 4,
 "nbformat_minor": 2
}
